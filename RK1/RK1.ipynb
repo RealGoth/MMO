{
 "cells": [
  {
   "cell_type": "markdown",
   "metadata": {
    "id": "rLyAJg70PqMz"
   },
   "source": [
    "# Методы машинного обучения\n",
    "## ИУ5-22М Ким Р.И.\n",
    "\n",
    "## Рубежный контроль №1\n",
    "### Вариант 6:\n",
    "    Задача №6:\n",
    "\n",
    "Для набора данных проведите устранение пропусков для одного (произвольного) числового признака с использованием метода заполнения средним значением.\n",
    "\n",
    "    Задача №26:\n",
    "\n",
    "Для набора данных для одного (произвольного) числового признака проведите обнаружение и замену (найденными верхними и нижними границами) выбросов на основе правила трех сигм.\n",
    "\n",
    "### Дополнительные требования по группам:\n",
    "\n",
    "Для студентов групп ИУ5-22М, ИУ5И-22М - для произвольной колонки данных построить гистограмму.\n",
    "\n",
    "\n"
   ]
  },
  {
   "cell_type": "code",
   "execution_count": 1,
   "metadata": {
    "id": "aClUHfgjPqM5"
   },
   "outputs": [],
   "source": [
    "import numpy as np\n",
    "import pandas as pd \n",
    "import matplotlib.pyplot as plt\n",
    "import seaborn as sns\n",
    "import scipy.stats as stats"
   ]
  },
  {
   "cell_type": "code",
   "execution_count": 2,
   "metadata": {},
   "outputs": [
    {
     "name": "stdout",
     "output_type": "stream",
     "text": [
      "RK1.ipynb                          healthcare-dataset-stroke-data.csv\r\n"
     ]
    }
   ],
   "source": [
    "!ls"
   ]
  },
  {
   "cell_type": "code",
   "execution_count": 3,
   "metadata": {
    "id": "3G390tQ1PqM6"
   },
   "outputs": [],
   "source": [
    "data = pd.read_csv('healthcare-dataset-stroke-data.csv')"
   ]
  },
  {
   "cell_type": "code",
   "execution_count": 4,
   "metadata": {
    "id": "v3_xUPiyPqM7",
    "outputId": "08fdc3c5-a1cf-46e0-8836-716ac410933f"
   },
   "outputs": [
    {
     "data": {
      "text/html": [
       "<div>\n",
       "<style scoped>\n",
       "    .dataframe tbody tr th:only-of-type {\n",
       "        vertical-align: middle;\n",
       "    }\n",
       "\n",
       "    .dataframe tbody tr th {\n",
       "        vertical-align: top;\n",
       "    }\n",
       "\n",
       "    .dataframe thead th {\n",
       "        text-align: right;\n",
       "    }\n",
       "</style>\n",
       "<table border=\"1\" class=\"dataframe\">\n",
       "  <thead>\n",
       "    <tr style=\"text-align: right;\">\n",
       "      <th></th>\n",
       "      <th>id</th>\n",
       "      <th>gender</th>\n",
       "      <th>age</th>\n",
       "      <th>hypertension</th>\n",
       "      <th>heart_disease</th>\n",
       "      <th>ever_married</th>\n",
       "      <th>work_type</th>\n",
       "      <th>Residence_type</th>\n",
       "      <th>avg_glucose_level</th>\n",
       "      <th>bmi</th>\n",
       "      <th>smoking_status</th>\n",
       "      <th>stroke</th>\n",
       "    </tr>\n",
       "  </thead>\n",
       "  <tbody>\n",
       "    <tr>\n",
       "      <th>0</th>\n",
       "      <td>9046</td>\n",
       "      <td>Male</td>\n",
       "      <td>67.0</td>\n",
       "      <td>0</td>\n",
       "      <td>1</td>\n",
       "      <td>Yes</td>\n",
       "      <td>Private</td>\n",
       "      <td>Urban</td>\n",
       "      <td>228.69</td>\n",
       "      <td>36.6</td>\n",
       "      <td>formerly smoked</td>\n",
       "      <td>1</td>\n",
       "    </tr>\n",
       "    <tr>\n",
       "      <th>1</th>\n",
       "      <td>51676</td>\n",
       "      <td>Female</td>\n",
       "      <td>61.0</td>\n",
       "      <td>0</td>\n",
       "      <td>0</td>\n",
       "      <td>Yes</td>\n",
       "      <td>Self-employed</td>\n",
       "      <td>Rural</td>\n",
       "      <td>202.21</td>\n",
       "      <td>NaN</td>\n",
       "      <td>never smoked</td>\n",
       "      <td>1</td>\n",
       "    </tr>\n",
       "    <tr>\n",
       "      <th>2</th>\n",
       "      <td>31112</td>\n",
       "      <td>Male</td>\n",
       "      <td>80.0</td>\n",
       "      <td>0</td>\n",
       "      <td>1</td>\n",
       "      <td>Yes</td>\n",
       "      <td>Private</td>\n",
       "      <td>Rural</td>\n",
       "      <td>105.92</td>\n",
       "      <td>32.5</td>\n",
       "      <td>never smoked</td>\n",
       "      <td>1</td>\n",
       "    </tr>\n",
       "    <tr>\n",
       "      <th>3</th>\n",
       "      <td>60182</td>\n",
       "      <td>Female</td>\n",
       "      <td>49.0</td>\n",
       "      <td>0</td>\n",
       "      <td>0</td>\n",
       "      <td>Yes</td>\n",
       "      <td>Private</td>\n",
       "      <td>Urban</td>\n",
       "      <td>171.23</td>\n",
       "      <td>34.4</td>\n",
       "      <td>smokes</td>\n",
       "      <td>1</td>\n",
       "    </tr>\n",
       "    <tr>\n",
       "      <th>4</th>\n",
       "      <td>1665</td>\n",
       "      <td>Female</td>\n",
       "      <td>79.0</td>\n",
       "      <td>1</td>\n",
       "      <td>0</td>\n",
       "      <td>Yes</td>\n",
       "      <td>Self-employed</td>\n",
       "      <td>Rural</td>\n",
       "      <td>174.12</td>\n",
       "      <td>24.0</td>\n",
       "      <td>never smoked</td>\n",
       "      <td>1</td>\n",
       "    </tr>\n",
       "  </tbody>\n",
       "</table>\n",
       "</div>"
      ],
      "text/plain": [
       "      id  gender   age  hypertension  heart_disease ever_married  \\\n",
       "0   9046    Male  67.0             0              1          Yes   \n",
       "1  51676  Female  61.0             0              0          Yes   \n",
       "2  31112    Male  80.0             0              1          Yes   \n",
       "3  60182  Female  49.0             0              0          Yes   \n",
       "4   1665  Female  79.0             1              0          Yes   \n",
       "\n",
       "       work_type Residence_type  avg_glucose_level   bmi   smoking_status  \\\n",
       "0        Private          Urban             228.69  36.6  formerly smoked   \n",
       "1  Self-employed          Rural             202.21   NaN     never smoked   \n",
       "2        Private          Rural             105.92  32.5     never smoked   \n",
       "3        Private          Urban             171.23  34.4           smokes   \n",
       "4  Self-employed          Rural             174.12  24.0     never smoked   \n",
       "\n",
       "   stroke  \n",
       "0       1  \n",
       "1       1  \n",
       "2       1  \n",
       "3       1  \n",
       "4       1  "
      ]
     },
     "execution_count": 4,
     "metadata": {},
     "output_type": "execute_result"
    }
   ],
   "source": [
    "data.head()"
   ]
  },
  {
   "cell_type": "code",
   "execution_count": 5,
   "metadata": {
    "id": "J6oIeL44PqM8",
    "outputId": "1d92a3ed-bc09-405a-d18b-08535bb0c11f"
   },
   "outputs": [
    {
     "name": "stderr",
     "output_type": "stream",
     "text": [
      "/var/folders/s3/_mgg85qn3cb47rm50fh0tmhc0000gn/T/ipykernel_32771/3892771371.py:1: FutureWarning: In a future version of pandas all arguments of DataFrame.drop except for the argument 'labels' will be keyword-only\n",
      "  data = data.drop('id', 1)\n"
     ]
    },
    {
     "data": {
      "text/html": [
       "<div>\n",
       "<style scoped>\n",
       "    .dataframe tbody tr th:only-of-type {\n",
       "        vertical-align: middle;\n",
       "    }\n",
       "\n",
       "    .dataframe tbody tr th {\n",
       "        vertical-align: top;\n",
       "    }\n",
       "\n",
       "    .dataframe thead th {\n",
       "        text-align: right;\n",
       "    }\n",
       "</style>\n",
       "<table border=\"1\" class=\"dataframe\">\n",
       "  <thead>\n",
       "    <tr style=\"text-align: right;\">\n",
       "      <th></th>\n",
       "      <th>gender</th>\n",
       "      <th>age</th>\n",
       "      <th>hypertension</th>\n",
       "      <th>heart_disease</th>\n",
       "      <th>ever_married</th>\n",
       "      <th>work_type</th>\n",
       "      <th>Residence_type</th>\n",
       "      <th>avg_glucose_level</th>\n",
       "      <th>bmi</th>\n",
       "      <th>smoking_status</th>\n",
       "      <th>stroke</th>\n",
       "    </tr>\n",
       "  </thead>\n",
       "  <tbody>\n",
       "    <tr>\n",
       "      <th>0</th>\n",
       "      <td>Male</td>\n",
       "      <td>67.0</td>\n",
       "      <td>0</td>\n",
       "      <td>1</td>\n",
       "      <td>Yes</td>\n",
       "      <td>Private</td>\n",
       "      <td>Urban</td>\n",
       "      <td>228.69</td>\n",
       "      <td>36.6</td>\n",
       "      <td>formerly smoked</td>\n",
       "      <td>1</td>\n",
       "    </tr>\n",
       "    <tr>\n",
       "      <th>1</th>\n",
       "      <td>Female</td>\n",
       "      <td>61.0</td>\n",
       "      <td>0</td>\n",
       "      <td>0</td>\n",
       "      <td>Yes</td>\n",
       "      <td>Self-employed</td>\n",
       "      <td>Rural</td>\n",
       "      <td>202.21</td>\n",
       "      <td>NaN</td>\n",
       "      <td>never smoked</td>\n",
       "      <td>1</td>\n",
       "    </tr>\n",
       "    <tr>\n",
       "      <th>2</th>\n",
       "      <td>Male</td>\n",
       "      <td>80.0</td>\n",
       "      <td>0</td>\n",
       "      <td>1</td>\n",
       "      <td>Yes</td>\n",
       "      <td>Private</td>\n",
       "      <td>Rural</td>\n",
       "      <td>105.92</td>\n",
       "      <td>32.5</td>\n",
       "      <td>never smoked</td>\n",
       "      <td>1</td>\n",
       "    </tr>\n",
       "    <tr>\n",
       "      <th>3</th>\n",
       "      <td>Female</td>\n",
       "      <td>49.0</td>\n",
       "      <td>0</td>\n",
       "      <td>0</td>\n",
       "      <td>Yes</td>\n",
       "      <td>Private</td>\n",
       "      <td>Urban</td>\n",
       "      <td>171.23</td>\n",
       "      <td>34.4</td>\n",
       "      <td>smokes</td>\n",
       "      <td>1</td>\n",
       "    </tr>\n",
       "    <tr>\n",
       "      <th>4</th>\n",
       "      <td>Female</td>\n",
       "      <td>79.0</td>\n",
       "      <td>1</td>\n",
       "      <td>0</td>\n",
       "      <td>Yes</td>\n",
       "      <td>Self-employed</td>\n",
       "      <td>Rural</td>\n",
       "      <td>174.12</td>\n",
       "      <td>24.0</td>\n",
       "      <td>never smoked</td>\n",
       "      <td>1</td>\n",
       "    </tr>\n",
       "  </tbody>\n",
       "</table>\n",
       "</div>"
      ],
      "text/plain": [
       "   gender   age  hypertension  heart_disease ever_married      work_type  \\\n",
       "0    Male  67.0             0              1          Yes        Private   \n",
       "1  Female  61.0             0              0          Yes  Self-employed   \n",
       "2    Male  80.0             0              1          Yes        Private   \n",
       "3  Female  49.0             0              0          Yes        Private   \n",
       "4  Female  79.0             1              0          Yes  Self-employed   \n",
       "\n",
       "  Residence_type  avg_glucose_level   bmi   smoking_status  stroke  \n",
       "0          Urban             228.69  36.6  formerly smoked       1  \n",
       "1          Rural             202.21   NaN     never smoked       1  \n",
       "2          Rural             105.92  32.5     never smoked       1  \n",
       "3          Urban             171.23  34.4           smokes       1  \n",
       "4          Rural             174.12  24.0     never smoked       1  "
      ]
     },
     "execution_count": 5,
     "metadata": {},
     "output_type": "execute_result"
    }
   ],
   "source": [
    "data = data.drop('id', 1)\n",
    "data.head()"
   ]
  },
  {
   "cell_type": "markdown",
   "metadata": {
    "id": "cef2bWYYPqM9"
   },
   "source": [
    "## Задача 6\n",
    "Для набора данных проведите устранение пропусков для одного (произвольного) числового признака с использованием метода заполнения средним значением."
   ]
  },
  {
   "cell_type": "code",
   "execution_count": 6,
   "metadata": {
    "id": "5J_cUWc0PqM-",
    "outputId": "c988b167-b653-476b-b4a5-f74027c8f78b"
   },
   "outputs": [
    {
     "data": {
      "text/plain": [
       "[('gender', ('object', 0)),\n",
       " ('age', ('float64', 0)),\n",
       " ('hypertension', ('int64', 0)),\n",
       " ('heart_disease', ('int64', 0)),\n",
       " ('ever_married', ('object', 0)),\n",
       " ('work_type', ('object', 0)),\n",
       " ('Residence_type', ('object', 0)),\n",
       " ('avg_glucose_level', ('float64', 0)),\n",
       " ('bmi', ('float64', 201)),\n",
       " ('smoking_status', ('object', 0)),\n",
       " ('stroke', ('int64', 0))]"
      ]
     },
     "execution_count": 6,
     "metadata": {},
     "output_type": "execute_result"
    }
   ],
   "source": [
    "data_features = list(zip(\n",
    "# признаки\n",
    "[i for i in data.columns],\n",
    "zip(\n",
    "    # типы колонок\n",
    "    [str(i) for i in data.dtypes],\n",
    "    # проверим есть ли пропущенные значения\n",
    "    [i for i in data.isnull().sum()]\n",
    ")))\n",
    "# Признаки с типом данных и количеством пропусков\n",
    "data_features"
   ]
  },
  {
   "cell_type": "code",
   "execution_count": 7,
   "metadata": {
    "id": "co-UV_5uPqM_",
    "outputId": "55491e60-10b1-4e50-fc9d-62113bb265ba"
   },
   "outputs": [
    {
     "data": {
      "text/plain": [
       "[('gender', 0.0),\n",
       " ('age', 0.0),\n",
       " ('hypertension', 0.0),\n",
       " ('heart_disease', 0.0),\n",
       " ('ever_married', 0.0),\n",
       " ('work_type', 0.0),\n",
       " ('Residence_type', 0.0),\n",
       " ('avg_glucose_level', 0.0),\n",
       " ('bmi', 0.03933463796477495),\n",
       " ('smoking_status', 0.0),\n",
       " ('stroke', 0.0)]"
      ]
     },
     "execution_count": 7,
     "metadata": {},
     "output_type": "execute_result"
    }
   ],
   "source": [
    "# Доля (процент) пропусков\n",
    "[(c, data[c].isnull().mean()) for c in data.columns]"
   ]
  },
  {
   "cell_type": "markdown",
   "metadata": {
    "id": "UuujwForPqNA"
   },
   "source": [
    "Видно, что пропуски имеются в полях age и bmi"
   ]
  },
  {
   "cell_type": "code",
   "execution_count": 8,
   "metadata": {
    "id": "6nj2lJu2PqNA"
   },
   "outputs": [],
   "source": [
    "# Заполним пропуски bmi средними значениями\n",
    "def impute_na(df, variable, value):\n",
    "    df[variable].fillna(value, inplace=True)\n",
    "impute_na(data, 'bmi', data['bmi'].mean())"
   ]
  },
  {
   "cell_type": "code",
   "execution_count": 9,
   "metadata": {
    "id": "FdEKNHorPqNB"
   },
   "outputs": [],
   "source": [
    "# Удалим данные, где возраст незаполнен, так как таких данных мало, и удаление не повлияет на качество модели\n",
    "data.dropna(subset=['age'], inplace=True)"
   ]
  },
  {
   "cell_type": "code",
   "execution_count": 10,
   "metadata": {
    "id": "6uuQbB52PqNC",
    "outputId": "45d05f55-a1d7-4b16-cc3c-189dc84be567"
   },
   "outputs": [
    {
     "data": {
      "text/plain": [
       "gender               0\n",
       "age                  0\n",
       "hypertension         0\n",
       "heart_disease        0\n",
       "ever_married         0\n",
       "work_type            0\n",
       "Residence_type       0\n",
       "avg_glucose_level    0\n",
       "bmi                  0\n",
       "smoking_status       0\n",
       "stroke               0\n",
       "dtype: int64"
      ]
     },
     "execution_count": 10,
     "metadata": {},
     "output_type": "execute_result"
    }
   ],
   "source": [
    "# Убедимся что нет пустых значений\n",
    "data.isnull().sum()"
   ]
  },
  {
   "cell_type": "markdown",
   "metadata": {
    "id": "3Lh7SaHMPqNC"
   },
   "source": [
    "Итого: Провели устранение пропусков в полях Age - возраст и bmi - индекс массы тела"
   ]
  },
  {
   "cell_type": "markdown",
   "metadata": {
    "id": "HZp8ttodPqND"
   },
   "source": [
    "## Задача 26\n",
    "\n",
    "Для набора данных для одного (произвольного) числового признака проведите обнаружение и замену (найденными верхними и нижними границами) выбросов на основе правила трех сигм."
   ]
  },
  {
   "cell_type": "code",
   "execution_count": 11,
   "metadata": {
    "id": "6GWZgtbPPqND"
   },
   "outputs": [],
   "source": [
    "def diagnostic_plots(df, variable, title):\n",
    "    fig, ax = plt.subplots(figsize=(10,7))\n",
    "    # гистограмма\n",
    "    plt.subplot(2, 2, 1)\n",
    "    df[variable].hist(bins=30)\n",
    "    ## Q-Q plot\n",
    "    plt.subplot(2, 2, 2)\n",
    "    stats.probplot(df[variable], dist=\"norm\", plot=plt)\n",
    "    # ящик с усами\n",
    "    plt.subplot(2, 2, 3)\n",
    "    sns.violinplot(x=df[variable])    \n",
    "    # ящик с усами\n",
    "    plt.subplot(2, 2, 4)\n",
    "    sns.boxplot(x=df[variable])  \n",
    "    fig.suptitle(title)\n",
    "    plt.show()"
   ]
  },
  {
   "cell_type": "code",
   "execution_count": 12,
   "metadata": {
    "id": "OugS_kNcPqND",
    "outputId": "a91e4d81-5b43-4031-a219-1a15438da3da"
   },
   "outputs": [
    {
     "data": {
      "image/png": "[encoded data removed]",
      "text/plain": [
       "<Figure size 720x504 with 4 Axes>"
      ]
     },
     "metadata": {
      "needs_background": "light"
     },
     "output_type": "display_data"
    }
   ],
   "source": [
    "diagnostic_plots(data, 'bmi', 'bmi')"
   ]
  },
  {
   "cell_type": "markdown",
   "metadata": {
    "id": "gQm_HYy0PqNE"
   },
   "source": [
    "На графике \"Ящик с усами\" видно, что много выбросов с левой стороны, утсраним их заменой"
   ]
  },
  {
   "cell_type": "code",
   "execution_count": 13,
   "metadata": {
    "id": "qQvL8OIBPqNE",
    "outputId": "70fadc6b-9389-4b05-e98a-a46d379aa556"
   },
   "outputs": [
    {
     "name": "stdout",
     "output_type": "stream",
     "text": [
      "Нижняя граница 5.7991834312234865\n",
      "Верхняя граница 51.98729039236595\n"
     ]
    }
   ],
   "source": [
    "lower_boundary = data['bmi'].mean() - (3 * data['bmi'].std())\n",
    "upper_boundary = data['bmi'].mean() + (3 * data['bmi'].std())\n",
    "print('Нижняя граница',lower_boundary)\n",
    "print('Верхняя граница', upper_boundary)"
   ]
  },
  {
   "cell_type": "code",
   "execution_count": 17,
   "metadata": {
    "id": "AIA-Uz5rPqNF",
    "outputId": "34caf8e4-69c9-4c44-bc5c-255dc7fad6b9"
   },
   "outputs": [
    {
     "data": {
      "image/png": "[encoded data removed]",
      "text/plain": [
       "<Figure size 720x504 with 4 Axes>"
      ]
     },
     "metadata": {
      "needs_background": "light"
     },
     "output_type": "display_data"
    }
   ],
   "source": [
    "col = 'bmi'\n",
    "data[col] = np.where(data[col] > upper_boundary, upper_boundary, \n",
    "                                 np.where(data[col] < lower_boundary, lower_boundary, data[col]))\n",
    "diagnostic_plots(data, col, 'Анализ BMI')"
   ]
  },
  {
   "cell_type": "markdown",
   "metadata": {
    "id": "xMsyeiEDPqNF"
   },
   "source": [
    "Видно, что количество выбросов уменьшилось, но некоторое количество всё же осталось."
   ]
  },
  {
   "cell_type": "markdown",
   "metadata": {
    "id": "6T0jykKVPqNG"
   },
   "source": [
    "## Дополнительное задание\n"
   ]
  },
  {
   "cell_type": "code",
   "execution_count": 19,
   "metadata": {
    "id": "cLA5tkh4PqNG",
    "outputId": "b617bbb7-74bb-4831-e140-dd16ad019c43"
   },
   "outputs": [
    {
     "data": {
      "image/png": "[encoded data removed]",
      "text/plain": [
       "<Figure size 432x288 with 1 Axes>"
      ]
     },
     "metadata": {
      "needs_background": "light"
     },
     "output_type": "display_data"
    }
   ],
   "source": [
    "plt.hist(data['avg_glucose_level'])\n",
    "plt.show()"
   ]
  },
  {
   "cell_type": "markdown",
   "metadata": {
    "id": "qF0hBMpdPqNH"
   },
   "source": [
    "Построили гистограмму для колонки 'avg_glucose_level'"
   ]
  }
 ],
 "metadata": {
  "colab": {
   "collapsed_sections": [],
   "name": "RK1 Крюков.ipynb",
   "provenance": []
  },
  "kernelspec": {
   "display_name": "Python 3",
   "language": "python",
   "name": "python3"
  },
  "language_info": {
   "codemirror_mode": {
    "name": "ipython",
    "version": 3
   },
   "file_extension": ".py",
   "mimetype": "text/x-python",
   "name": "python",
   "nbconvert_exporter": "python",
   "pygments_lexer": "ipython3",
   "version": "3.9.7"
  }
 },
 "nbformat": 4,
 "nbformat_minor": 1
}
